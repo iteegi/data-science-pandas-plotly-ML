{
 "cells": [
  {
   "cell_type": "markdown",
   "metadata": {},
   "source": [
    "# Series"
   ]
  }
 ],
 "metadata": {
  "kernelspec": {
   "display_name": "Python 3.8.10 ('ds-ppml_env')",
   "language": "python",
   "name": "python3"
  },
  "language_info": {
   "name": "python",
   "version": "3.8.10"
  },
  "orig_nbformat": 4,
  "vscode": {
   "interpreter": {
    "hash": "6ea761bea4b6bca984b7888a3a4525537512655e85b90a49d62a8ed63abb9dc2"
   }
  }
 },
 "nbformat": 4,
 "nbformat_minor": 2
}
